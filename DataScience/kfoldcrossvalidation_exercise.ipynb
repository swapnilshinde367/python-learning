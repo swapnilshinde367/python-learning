{
 "cells": [
  {
   "cell_type": "code",
   "execution_count": 23,
   "metadata": {
    "collapsed": false
   },
   "outputs": [
    {
     "data": {
      "text/plain": [
       "0.96666666666666667"
      ]
     },
     "execution_count": 23,
     "metadata": {},
     "output_type": "execute_result"
    }
   ],
   "source": [
    "import numpy as np\n",
    "from sklearn import svm\n",
    "from sklearn import datasets\n",
    "from sklearn.model_selection import cross_val_score, train_test_split\n",
    "\n",
    "iris = datasets.load_iris()\n",
    "\n",
    "#split the data for training and testing\n",
    "\n",
    "x_train, x_test, y_train, y_test = train_test_split( iris.data, iris.target, test_size = 0.35, random_state = 0)\n",
    "\n",
    "# Lets build a linear model for predictions\n",
    "svc_linear_classification_model = svm.SVC( kernel = 'linear', C=1 ).fit( x_train, y_train )\n",
    "#test\n",
    "svc_linear_classification_model.score( x_test, y_test )"
   ]
  },
  {
   "cell_type": "code",
   "execution_count": 28,
   "metadata": {
    "collapsed": false
   },
   "outputs": [
    {
     "name": "stdout",
     "output_type": "stream",
     "text": [
      "[ 0.96666667  1.          0.96666667  0.96666667  1.        ]\n",
      "0.98\n"
     ]
    }
   ],
   "source": [
    "# Giving model to cross_val_score, entire dataset its values and number of folds = 5\n",
    "scores = cross_val_score( svc_linear_classification_model, iris.data, iris.target, cv=5 )\n",
    "print(scores)\n",
    "print(scores.mean())"
   ]
  },
  {
   "cell_type": "code",
   "execution_count": 31,
   "metadata": {
    "collapsed": false
   },
   "outputs": [
    {
     "data": {
      "text/plain": [
       "0.96666666666666667"
      ]
     },
     "execution_count": 31,
     "metadata": {},
     "output_type": "execute_result"
    }
   ],
   "source": [
    "#Let's build a polyniomial model with default degree = 3\n",
    "svc_polynomial_classification_model = svm.SVC( kernel = 'poly', C = 1 ).fit( x_train, y_train )\n",
    "\n",
    "#test\n",
    "svc_polynomial_classification_model.score( x_test, y_test )"
   ]
  },
  {
   "cell_type": "code",
   "execution_count": 32,
   "metadata": {
    "collapsed": false
   },
   "outputs": [
    {
     "data": {
      "text/plain": [
       "0.90000000000000002"
      ]
     },
     "execution_count": 32,
     "metadata": {},
     "output_type": "execute_result"
    }
   ],
   "source": [
    "#Let's build a polyniomial model with degree = 2\n",
    "svc_polynomial_classification_model = svm.SVC( kernel = 'poly', degree = 2, C = 1 ).fit( x_train, y_train )\n",
    "\n",
    "#test\n",
    "svc_polynomial_classification_model.score( x_test, y_test )"
   ]
  }
 ],
 "metadata": {
  "kernelspec": {
   "display_name": "Python 2",
   "language": "python",
   "name": "python2"
  },
  "language_info": {
   "codemirror_mode": {
    "name": "ipython",
    "version": 2
   },
   "file_extension": ".py",
   "mimetype": "text/x-python",
   "name": "python",
   "nbconvert_exporter": "python",
   "pygments_lexer": "ipython2",
   "version": "2.7.13"
  }
 },
 "nbformat": 4,
 "nbformat_minor": 2
}
