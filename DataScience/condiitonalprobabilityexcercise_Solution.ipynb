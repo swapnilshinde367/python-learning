{
 "cells": [
  {
   "cell_type": "code",
   "execution_count": 98,
   "metadata": {
    "collapsed": false,
    "deletable": true,
    "editable": true
   },
   "outputs": [],
   "source": [
    "from numpy import random\n",
    "\n",
    "random.seed(0)\n",
    "\n",
    "totals = { 20:0, 30:0, 40:0, 50:0, 60:0, 70:0 }\n",
    "purchases = { 20:0, 30:0, 40:0, 50:0, 60:0, 70:0 }\n",
    "\n",
    "totalPurchases = 0\n",
    "\n",
    "for _ in range( 10000 ):\n",
    "    ageDecade = random.choice( [20, 30, 40, 50, 60, 70] )\n",
    "#     purchaseProbability = float( ageDecade ) / 100.0\n",
    "    purchaseProbability = 0.4\n",
    "    totals[ageDecade] = totals[ageDecade] + 1\n",
    "#     print(random.random())\n",
    "    if (random.random() < purchaseProbability):\n",
    "        totalPurchases = totalPurchases + 1 \n",
    "        purchases[ageDecade] = purchases[ageDecade] + 1\n"
   ]
  },
  {
   "cell_type": "code",
   "execution_count": 99,
   "metadata": {
    "collapsed": false
   },
   "outputs": [
    {
     "data": {
      "text/plain": [
       "4019"
      ]
     },
     "execution_count": 99,
     "metadata": {},
     "output_type": "execute_result"
    }
   ],
   "source": [
    "totalPurchases"
   ]
  },
  {
   "cell_type": "code",
   "execution_count": 100,
   "metadata": {
    "collapsed": false
   },
   "outputs": [
    {
     "data": {
      "text/plain": [
       "{20: 1660, 30: 1652, 40: 1630, 50: 1670, 60: 1669, 70: 1719}"
      ]
     },
     "execution_count": 100,
     "metadata": {},
     "output_type": "execute_result"
    }
   ],
   "source": [
    "totals"
   ]
  },
  {
   "cell_type": "code",
   "execution_count": 101,
   "metadata": {
    "collapsed": false
   },
   "outputs": [
    {
     "data": {
      "text/plain": [
       "{20: 706, 30: 668, 40: 646, 50: 666, 60: 676, 70: 657}"
      ]
     },
     "execution_count": 101,
     "metadata": {},
     "output_type": "execute_result"
    }
   ],
   "source": [
    "purchases"
   ]
  },
  {
   "cell_type": "markdown",
   "metadata": {},
   "source": [
    "E - purchase and\n",
    "F - You are in your thirties (totals[30]) and\n",
    "P(E|F) = Probability purchases made by people of age thirty = how many 30 year old bought something = PEF"
   ]
  },
  {
   "cell_type": "code",
   "execution_count": 102,
   "metadata": {
    "collapsed": false
   },
   "outputs": [
    {
     "name": "stdout",
     "output_type": "stream",
     "text": [
      "P(purchase | 30s): 0.404358353511\n"
     ]
    }
   ],
   "source": [
    "PEF = float(purchases[30]) / float(totals[30])\n",
    "print('P(purchase | 30s): ' + str(PEF))"
   ]
  },
  {
   "cell_type": "markdown",
   "metadata": {},
   "source": [
    "P(F) = Probability of buying if 30 year old"
   ]
  },
  {
   "cell_type": "code",
   "execution_count": 103,
   "metadata": {
    "collapsed": false
   },
   "outputs": [
    {
     "name": "stdout",
     "output_type": "stream",
     "text": [
      "P(30's): 0.0668\n"
     ]
    }
   ],
   "source": [
    "PF = float(purchases[30]) / 10000.0\n",
    "print(\"P(30's): \" +  str(PF))"
   ]
  },
  {
   "cell_type": "markdown",
   "metadata": {},
   "source": [
    "P(E) = Probabiliy of buying something regardless of age"
   ]
  },
  {
   "cell_type": "code",
   "execution_count": 104,
   "metadata": {
    "collapsed": false
   },
   "outputs": [
    {
     "name": "stdout",
     "output_type": "stream",
     "text": [
      "P(Purchase):0.4019\n"
     ]
    }
   ],
   "source": [
    "PE = float( totalPurchases ) / 10000.0\n",
    "print(\"P(Purchase):\" + str(PE))"
   ]
  },
  {
   "cell_type": "markdown",
   "metadata": {},
   "source": [
    "if E and F were not same then they would be dependant on each other but in our case they are not and P(E|F) is almost same as P(E). conclusion is if P(E) and P(E|F) are not same then they are dependant and if they are not then they are independant."
   ]
  },
  {
   "cell_type": "markdown",
   "metadata": {},
   "source": [
    "What is P(E)*P(F)?"
   ]
  },
  {
   "cell_type": "code",
   "execution_count": 105,
   "metadata": {
    "collapsed": false
   },
   "outputs": [
    {
     "name": "stdout",
     "output_type": "stream",
     "text": [
      "P(30's)P(Purchase): 0.02684692\n"
     ]
    }
   ],
   "source": [
    "print(\"P(30's)P(Purchase): \" + str(PE * PF))"
   ]
  },
  {
   "cell_type": "markdown",
   "metadata": {},
   "source": [
    "P(E,F) is different than P(E|F).\n",
    "P(E,F) is probability of being both, it is in 30s age and buying something as well. This is out of total population not just from 30's"
   ]
  },
  {
   "cell_type": "code",
   "execution_count": 106,
   "metadata": {
    "collapsed": false
   },
   "outputs": [
    {
     "name": "stdout",
     "output_type": "stream",
     "text": [
      "P(30's, Purchase): 0.0668\n"
     ]
    }
   ],
   "source": [
    "print(\"P(30's, Purchase): \" + str(float(purchases[30]) / 10000.0))"
   ]
  },
  {
   "cell_type": "markdown",
   "metadata": {},
   "source": [
    "Above example shows that P(E,F) = P(E) * P(F), ignore this statement"
   ]
  },
  {
   "cell_type": "markdown",
   "metadata": {},
   "source": [
    "Now lets check if P(E|F) = P(E,F)/P(F)"
   ]
  },
  {
   "cell_type": "code",
   "execution_count": 107,
   "metadata": {
    "collapsed": false
   },
   "outputs": [
    {
     "data": {
      "text/plain": [
       "0.4019"
      ]
     },
     "execution_count": 107,
     "metadata": {},
     "output_type": "execute_result"
    }
   ],
   "source": [
    "(PE * PF)/PF"
   ]
  }
 ],
 "metadata": {
  "kernelspec": {
   "display_name": "Python 2",
   "language": "python",
   "name": "python2"
  },
  "language_info": {
   "codemirror_mode": {
    "name": "ipython",
    "version": 2
   },
   "file_extension": ".py",
   "mimetype": "text/x-python",
   "name": "python",
   "nbconvert_exporter": "python",
   "pygments_lexer": "ipython2",
   "version": "2.7.13"
  }
 },
 "nbformat": 4,
 "nbformat_minor": 2
}
