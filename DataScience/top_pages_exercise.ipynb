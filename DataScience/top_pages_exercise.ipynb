{
 "cells": [
  {
   "cell_type": "code",
   "execution_count": 10,
   "metadata": {
    "collapsed": false,
    "deletable": true,
    "editable": true
   },
   "outputs": [
    {
     "name": "stdout",
     "output_type": "stream",
     "text": [
      "/ : 77\n",
      "/orlando-headlines/ : 36\n",
      "/world/ : 12\n",
      "/comics-2/ : 12\n",
      "/weather/ : 4\n",
      "/about/ : 4\n",
      "/australia/ : 4\n",
      "/national-headlines/ : 3\n",
      "/science/ : 2\n",
      "/technology/ : 2\n",
      "/entertainment/ : 1\n",
      "/san-jose-headlines/ : 1\n",
      "/business/ : 1\n"
     ]
    }
   ],
   "source": [
    "import re\n",
    "\n",
    "formatPattern = re.compile(\n",
    "    r\"(?P<host>[\\d\\.]+)\\s\"\n",
    "    r\"(?P<identity>\\S*)\\s\"\n",
    "    r\"(?P<user>\\S*)\\s\"\n",
    "    r\"\\[(?P<time>.*?)\\]\\s\"\n",
    "    r'\"(?P<request>.*?)\"\\s'\n",
    "    r\"(?P<status>\\d+)\\s\"\n",
    "    r\"(?P<bytes>\\S*)\\s\"\n",
    "    r'\"(?P<referer>.*?)\"\\s'\n",
    "    r'\"(?P<user_agent>.*?)\"\\s*'\n",
    ")\n",
    "\n",
    "logPath = 'access_log.txt'\n",
    "\n",
    "intCountUrls = {}\n",
    "intCountUserAgents = {}\n",
    "\n",
    "with open( logPath, 'r' ) as f :\n",
    "    for line in ( l.rstrip() for l in f ) :\n",
    "        match = formatPattern.match( line )\n",
    "        if match :\n",
    "            access = match.groupdict()\n",
    "            request = access['request']\n",
    "            fields = request.split()\n",
    "            userAgent = access['user_agent']\n",
    "            if( not( 'bot' in userAgent or 'spider' in userAgent or\n",
    "                     'Bot' in userAgent or 'Spider' in userAgent or \n",
    "                     'W3 Total Cache' in userAgent or '-' == userAgent ) ) :\n",
    "                if( 3 == len(fields) ) :\n",
    "                    (action, URL, protocol) = fields\n",
    "                    if (action == 'GET'):\n",
    "                        if( URL.endswith('/') and not( 'feed' in URL or 'Feed' in URL ) ):\n",
    "                            if URL in intCountUrls:\n",
    "                                intCountUrls[URL] = intCountUrls[URL] + 1\n",
    "                            else:\n",
    "                                intCountUrls[URL] = 1\n",
    "               \n",
    "                if userAgent in intCountUserAgents :\n",
    "                    intCountUserAgents[userAgent] = intCountUserAgents[userAgent] + 1\n",
    "                else :\n",
    "                    intCountUserAgents[userAgent] = 1\n",
    "\n",
    "intSortedUrlCounts = sorted( intCountUrls, key = lambda i: int( intCountUrls[i]), reverse = True )\n",
    "\n",
    "intSortedUserAgentCounts = sorted( intCountUserAgents, key = lambda i: int( intCountUserAgents[i]), reverse = True )\n",
    "\n",
    "for result in intSortedUrlCounts :\n",
    "    print result + \" : \" + str(intCountUrls[result])"
   ]
  }
 ],
 "metadata": {
  "kernelspec": {
   "display_name": "Python 2",
   "language": "python",
   "name": "python2"
  },
  "language_info": {
   "codemirror_mode": {
    "name": "ipython",
    "version": 2
   },
   "file_extension": ".py",
   "mimetype": "text/x-python",
   "name": "python",
   "nbconvert_exporter": "python",
   "pygments_lexer": "ipython2",
   "version": "2.7.13"
  }
 },
 "nbformat": 4,
 "nbformat_minor": 2
}
