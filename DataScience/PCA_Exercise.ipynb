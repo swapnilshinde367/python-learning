{
 "cells": [
  {
   "cell_type": "markdown",
   "metadata": {},
   "source": [
    "PCA - Principal Component Analysys\n",
    "\n",
    "Method or technique of converting higher or multi dimentions to fewer dimentions, selecting new dimensions with still preserving variance in the data as best as it can."
   ]
  },
  {
   "cell_type": "code",
   "execution_count": 28,
   "metadata": {
    "collapsed": false,
    "deletable": true,
    "editable": true
   },
   "outputs": [
    {
     "name": "stdout",
     "output_type": "stream",
     "text": [
      "150\n",
      "4\n",
      "['setosa', 'versicolor', 'virginica']\n"
     ]
    }
   ],
   "source": [
    "%matplotlib inline\n",
    "import pylab as pl\n",
    "from pylab import *\n",
    "from itertools import cycle\n",
    "from sklearn.datasets import load_iris\n",
    "from sklearn.decomposition import PCA\n",
    "\n",
    "iris = load_iris()\n",
    "totalSamples, totalFeatures = iris.data.shape\n",
    "print(totalSamples)\n",
    "print(totalFeatures)\n",
    "print(list(iris.target_names))"
   ]
  },
  {
   "cell_type": "markdown",
   "metadata": {},
   "source": [
    "Our data has 3 different species, 150 samples and 4 features(dimenesions)"
   ]
  },
  {
   "cell_type": "code",
   "execution_count": 29,
   "metadata": {
    "collapsed": false
   },
   "outputs": [
    {
     "data": {
      "text/plain": [
       "array([[-1.3059028 ,  0.66358991],\n",
       "       [-1.32107398, -0.34449998],\n",
       "       [-1.405936  , -0.27905426],\n",
       "       [-1.33617856, -0.63213207],\n",
       "       [-1.32749711,  0.67845686],\n",
       "       [-1.10920067,  1.51932013],\n",
       "       [-1.37240118, -0.16681722],\n",
       "       [-1.27781875,  0.34622394],\n",
       "       [-1.40503061, -1.15972851],\n",
       "       [-1.30086133, -0.21677267],\n",
       "       [-1.21945893,  1.32457995],\n",
       "       [-1.27132901,  0.04372491],\n",
       "       [-1.35612405, -0.46271497],\n",
       "       [-1.56910331, -1.02254743],\n",
       "       [-1.28611926,  2.41007147],\n",
       "       [-1.15978443,  2.73222729],\n",
       "       [-1.2758942 ,  1.66216748],\n",
       "       [-1.28844456,  0.6484113 ],\n",
       "       [-1.06988095,  1.78641899],\n",
       "       [-1.25877865,  1.05748108],\n",
       "       [-1.12410469,  0.80837465],\n",
       "       [-1.23731792,  0.89404193],\n",
       "       [-1.56455794,  0.28772982],\n",
       "       [-1.12050295,  0.21439748],\n",
       "       [-1.14630886, -0.06341061],\n",
       "       [-1.2201354 , -0.28253006],\n",
       "       [-1.20122889,  0.28015487],\n",
       "       [-1.24663759,  0.76127167],\n",
       "       [-1.28430848,  0.64872297],\n",
       "       [-1.28091585, -0.38618977],\n",
       "       [-1.25932153, -0.40105671],\n",
       "       [-1.17253498,  0.8494411 ],\n",
       "       [-1.28811078,  1.66601353],\n",
       "       [-1.26355295,  2.23498808],\n",
       "       [-1.30086133, -0.21677267],\n",
       "       [-1.39483391,  0.15683837],\n",
       "       [-1.27720889,  1.23287614],\n",
       "       [-1.30086133, -0.21677267],\n",
       "       [-1.45070648, -0.97575613],\n",
       "       [-1.26022692,  0.47961754],\n",
       "       [-1.34770976,  0.55072954],\n",
       "       [-1.38763898, -1.89536493],\n",
       "       [-1.45871147, -0.67923505],\n",
       "       [-1.1703149 ,  0.39805819],\n",
       "       [-1.07462688,  0.89945512],\n",
       "       [-1.32120757, -0.49307219],\n",
       "       [-1.23456351,  1.03694786],\n",
       "       [-1.38185444, -0.44815969],\n",
       "       [-1.23705075,  1.19118635],\n",
       "       [-1.31548964,  0.23367524],\n",
       "       [ 0.62506981,  1.39265261],\n",
       "       [ 0.45363035,  0.6485361 ],\n",
       "       [ 0.71228549,  1.02439619],\n",
       "       [ 0.08804298, -1.67743472],\n",
       "       [ 0.52890552,  0.15317569],\n",
       "       [ 0.31158108, -0.84790402],\n",
       "       [ 0.53284104,  0.57680075],\n",
       "       [-0.36559885, -2.03401705],\n",
       "       [ 0.50757837,  0.46518706],\n",
       "       [-0.00495761, -1.46404012],\n",
       "       [-0.24865029, -2.5650893 ],\n",
       "       [ 0.24865607, -0.20781745],\n",
       "       [ 0.12762987, -1.11319144],\n",
       "       [ 0.47875088, -0.25267138],\n",
       "       [-0.08507368, -0.51163053],\n",
       "       [ 0.45127669,  0.9513468 ],\n",
       "       [ 0.32090075, -0.71513376],\n",
       "       [ 0.11410714, -0.67438777],\n",
       "       [ 0.45847162, -1.1008565 ],\n",
       "       [ 0.02103995, -1.18145098],\n",
       "       [ 0.5430661 , -0.17110324],\n",
       "       [ 0.17358145, -0.13577044],\n",
       "       [ 0.6307495 , -0.66552864],\n",
       "       [ 0.44783689, -0.37057469],\n",
       "       [ 0.34737458,  0.30553538],\n",
       "       [ 0.43768736,  0.66969266],\n",
       "       [ 0.64756952,  0.49711142],\n",
       "       [ 0.75769419,  0.54327939],\n",
       "       [ 0.39527053, -0.32981991],\n",
       "       [-0.14952248, -0.74177088],\n",
       "       [-0.03422276, -1.42739328],\n",
       "       [-0.09335438, -1.37650283],\n",
       "       [ 0.06567686, -0.63332132],\n",
       "       [ 0.67077405, -0.85579064],\n",
       "       [ 0.2857171 , -0.98192095],\n",
       "       [ 0.39271631,  0.39630418],\n",
       "       [ 0.59375507,  0.82903267],\n",
       "       [ 0.39547109, -0.7531333 ],\n",
       "       [ 0.11929074, -0.54192918],\n",
       "       [ 0.08003799, -1.38091364],\n",
       "       [ 0.22527079, -1.36032184],\n",
       "       [ 0.43307501, -0.068699  ],\n",
       "       [ 0.11135273, -0.8172937 ],\n",
       "       [-0.34400454, -2.048884  ],\n",
       "       [ 0.1729716 , -1.02242264],\n",
       "       [ 0.1610977 , -0.42906881],\n",
       "       [ 0.18255844, -0.59250796],\n",
       "       [ 0.31219093,  0.03874818],\n",
       "       [-0.44197961, -1.52701242],\n",
       "       [ 0.14488754, -0.70505666],\n",
       "       [ 1.23171916, -0.02406066],\n",
       "       [ 0.68796512, -1.16811367],\n",
       "       [ 1.27295488,  0.69473278],\n",
       "       [ 0.95882793, -0.36800518],\n",
       "       [ 1.1431888 , -0.08509558],\n",
       "       [ 1.65262768,  1.1117179 ],\n",
       "       [ 0.25268692, -2.42054886],\n",
       "       [ 1.42645984,  0.71594792],\n",
       "       [ 1.12855195, -0.49889663],\n",
       "       [ 1.41971148,  1.58555149],\n",
       "       [ 0.80855366,  0.4917656 ],\n",
       "       [ 0.87686282, -0.43917576],\n",
       "       [ 1.05348588,  0.43739934],\n",
       "       [ 0.65416314, -1.57749512],\n",
       "       [ 0.77125382, -1.09574619],\n",
       "       [ 0.92668332,  0.24141249],\n",
       "       [ 0.9483357 ,  0.08275439],\n",
       "       [ 1.69733119,  2.38030536],\n",
       "       [ 1.8461661 ,  0.51457659],\n",
       "       [ 0.63165489, -1.54620289],\n",
       "       [ 1.18133597,  0.76553312],\n",
       "       [ 0.58289045, -1.23039526],\n",
       "       [ 1.70243963,  0.92805719],\n",
       "       [ 0.67511923, -0.41454339],\n",
       "       [ 1.10723335,  0.67736369],\n",
       "       [ 1.27184039,  1.13447146],\n",
       "       [ 0.61185153, -0.36396461],\n",
       "       [ 0.62792811, -0.23654897],\n",
       "       [ 1.03279696, -0.42840796],\n",
       "       [ 1.16158213,  0.93973128],\n",
       "       [ 1.38216563,  0.75732604],\n",
       "       [ 1.57257821,  2.7845853 ],\n",
       "       [ 1.0502552 , -0.44358658],\n",
       "       [ 0.70208879, -0.29217069],\n",
       "       [ 0.8658188 , -1.01885954],\n",
       "       [ 1.49676907,  1.39331346],\n",
       "       [ 1.0435649 ,  0.28222584],\n",
       "       [ 0.92674138,  0.09762133],\n",
       "       [ 0.5686629 , -0.33423073],\n",
       "       [ 1.02540183,  0.75476532],\n",
       "       [ 1.12593967,  0.37101861],\n",
       "       [ 0.93529816,  0.83154361],\n",
       "       [ 0.68796512, -1.16811367],\n",
       "       [ 1.24709091,  0.56071584],\n",
       "       [ 1.1770663 ,  0.61664924],\n",
       "       [ 0.94579039,  0.38078403],\n",
       "       [ 0.74225584, -0.76195493],\n",
       "       [ 0.85823203,  0.15953268],\n",
       "       [ 0.92516807,  0.23543454],\n",
       "       [ 0.67609123, -0.57475984]])"
      ]
     },
     "execution_count": 29,
     "metadata": {},
     "output_type": "execute_result"
    }
   ],
   "source": [
    "X = iris.data\n",
    "pca = PCA( n_components = 2, whiten = True ).fit( X )\n",
    "X_pca = pca.transform( X )\n",
    "X_pca"
   ]
  },
  {
   "cell_type": "code",
   "execution_count": 30,
   "metadata": {
    "collapsed": false
   },
   "outputs": [
    {
     "name": "stdout",
     "output_type": "stream",
     "text": [
      "[[ 0.36158968 -0.08226889  0.85657211  0.35884393]\n",
      " [ 0.65653988  0.72971237 -0.1757674  -0.07470647]]\n"
     ]
    }
   ],
   "source": [
    "print( pca.components_ )"
   ]
  },
  {
   "cell_type": "code",
   "execution_count": 31,
   "metadata": {
    "collapsed": false
   },
   "outputs": [
    {
     "name": "stdout",
     "output_type": "stream",
     "text": [
      "[ 0.92461621  0.05301557]\n",
      "0.977631775025\n"
     ]
    }
   ],
   "source": [
    "# Let's see how much variance we have preserved\n",
    "\n",
    "print(pca.explained_variance_ratio_)\n",
    "print(sum(pca.explained_variance_ratio_))\n",
    "\n",
    "# We have captured around 92% variance in one dimension and second gives us more 5% so we have lost around 3% of the variance"
   ]
  },
  {
   "cell_type": "code",
   "execution_count": 32,
   "metadata": {
    "collapsed": false
   },
   "outputs": [
    {
     "data": {
      "image/png": "[encoded data removed]",
      "text/plain": [
       "<matplotlib.figure.Figure at 0xac8eac8>"
      ]
     },
     "metadata": {},
     "output_type": "display_data"
    }
   ],
   "source": [
    "colors = cycle( 'rgb' )\n",
    "target_ids = range( len( iris.target_names ) )\n",
    "pl.figure()\n",
    "for i, c, label in zip( target_ids, colors, iris.target_names ) :\n",
    "    pl.scatter( X_pca[iris.target == i, 0], X_pca[iris.target == i, 1], c = c, label = label )\n",
    "\n",
    "pl.legend()\n",
    "pl.show()"
   ]
  }
 ],
 "metadata": {
  "kernelspec": {
   "display_name": "Python 2",
   "language": "python",
   "name": "python2"
  },
  "language_info": {
   "codemirror_mode": {
    "name": "ipython",
    "version": 2
   },
   "file_extension": ".py",
   "mimetype": "text/x-python",
   "name": "python",
   "nbconvert_exporter": "python",
   "pygments_lexer": "ipython2",
   "version": "2.7.13"
  }
 },
 "nbformat": 4,
 "nbformat_minor": 2
}
